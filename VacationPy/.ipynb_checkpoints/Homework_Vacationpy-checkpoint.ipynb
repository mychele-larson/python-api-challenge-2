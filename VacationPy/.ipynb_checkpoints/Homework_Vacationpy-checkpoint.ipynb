{
 "cells": [
  {
   "cell_type": "markdown",
   "id": "065c825e-de7e-4bec-a14f-56a4893edfe1",
   "metadata": {},
   "source": [
    "## Vacationpy Homework\n"
   ]
  },
  {
   "cell_type": "code",
   "execution_count": 5,
   "id": "3fc7c66d-5b62-4afd-a7d8-f795cd3bdae5",
   "metadata": {},
   "outputs": [],
   "source": [
    "# Dependencies and Setup\n",
    "import matplotlib.pyplot as plt\n",
    "import pandas as pd\n",
    "import numpy as np\n",
    "import json\n",
    "import requests\n",
    "import gmaps\n",
    "import os\n",
    "from pprint import pprint\n",
    "\n",
    "# Import API key\n",
    "from config import g_key"
   ]
  },
  {
   "cell_type": "markdown",
   "id": "93810a3e",
   "metadata": {},
   "source": [
    "### Store Part I results into DataFrame\n",
    "* Load the csv exported in Part I to a DataFrame"
   ]
  },
  {
   "cell_type": "code",
   "execution_count": 6,
   "id": "7e4a6ff0",
   "metadata": {},
   "outputs": [
    {
     "data": {
      "text/html": [
       "<div>\n",
       "<style scoped>\n",
       "    .dataframe tbody tr th:only-of-type {\n",
       "        vertical-align: middle;\n",
       "    }\n",
       "\n",
       "    .dataframe tbody tr th {\n",
       "        vertical-align: top;\n",
       "    }\n",
       "\n",
       "    .dataframe thead th {\n",
       "        text-align: right;\n",
       "    }\n",
       "</style>\n",
       "<table border=\"1\" class=\"dataframe\">\n",
       "  <thead>\n",
       "    <tr style=\"text-align: right;\">\n",
       "      <th></th>\n",
       "      <th>City</th>\n",
       "      <th>Country</th>\n",
       "      <th>Latitude</th>\n",
       "      <th>Longitude</th>\n",
       "      <th>Max Temperature (F)</th>\n",
       "      <th>Humidity</th>\n",
       "      <th>Cloudiness</th>\n",
       "      <th>Windspeed (mph)</th>\n",
       "      <th>Date</th>\n",
       "    </tr>\n",
       "  </thead>\n",
       "  <tbody>\n",
       "    <tr>\n",
       "      <th>0</th>\n",
       "      <td>Chui</td>\n",
       "      <td>UY</td>\n",
       "      <td>-33.6971</td>\n",
       "      <td>-53.4616</td>\n",
       "      <td>58.21</td>\n",
       "      <td>87</td>\n",
       "      <td>0</td>\n",
       "      <td>9.33</td>\n",
       "      <td>1667785416</td>\n",
       "    </tr>\n",
       "    <tr>\n",
       "      <th>1</th>\n",
       "      <td>Ancud</td>\n",
       "      <td>CL</td>\n",
       "      <td>-41.8697</td>\n",
       "      <td>-73.8203</td>\n",
       "      <td>48.90</td>\n",
       "      <td>87</td>\n",
       "      <td>9</td>\n",
       "      <td>3.51</td>\n",
       "      <td>1667785416</td>\n",
       "    </tr>\n",
       "    <tr>\n",
       "      <th>2</th>\n",
       "      <td>Sinnamary</td>\n",
       "      <td>GF</td>\n",
       "      <td>5.3833</td>\n",
       "      <td>-52.9500</td>\n",
       "      <td>77.79</td>\n",
       "      <td>87</td>\n",
       "      <td>100</td>\n",
       "      <td>7.18</td>\n",
       "      <td>1667785416</td>\n",
       "    </tr>\n",
       "    <tr>\n",
       "      <th>3</th>\n",
       "      <td>Puerto Quijarro</td>\n",
       "      <td>BO</td>\n",
       "      <td>-17.7833</td>\n",
       "      <td>-57.7667</td>\n",
       "      <td>74.14</td>\n",
       "      <td>32</td>\n",
       "      <td>0</td>\n",
       "      <td>3.67</td>\n",
       "      <td>1667785417</td>\n",
       "    </tr>\n",
       "    <tr>\n",
       "      <th>4</th>\n",
       "      <td>Oga</td>\n",
       "      <td>IT</td>\n",
       "      <td>46.4631</td>\n",
       "      <td>10.3470</td>\n",
       "      <td>35.02</td>\n",
       "      <td>56</td>\n",
       "      <td>40</td>\n",
       "      <td>2.46</td>\n",
       "      <td>1667785417</td>\n",
       "    </tr>\n",
       "    <tr>\n",
       "      <th>5</th>\n",
       "      <td>Kruisfontein</td>\n",
       "      <td>ZA</td>\n",
       "      <td>-34.0033</td>\n",
       "      <td>24.7314</td>\n",
       "      <td>63.88</td>\n",
       "      <td>84</td>\n",
       "      <td>99</td>\n",
       "      <td>3.22</td>\n",
       "      <td>1667785418</td>\n",
       "    </tr>\n",
       "    <tr>\n",
       "      <th>6</th>\n",
       "      <td>Saskylakh</td>\n",
       "      <td>RU</td>\n",
       "      <td>71.9167</td>\n",
       "      <td>114.0833</td>\n",
       "      <td>-23.76</td>\n",
       "      <td>100</td>\n",
       "      <td>50</td>\n",
       "      <td>2.71</td>\n",
       "      <td>1667785418</td>\n",
       "    </tr>\n",
       "    <tr>\n",
       "      <th>7</th>\n",
       "      <td>Huilong</td>\n",
       "      <td>CN</td>\n",
       "      <td>31.8111</td>\n",
       "      <td>121.6550</td>\n",
       "      <td>65.93</td>\n",
       "      <td>61</td>\n",
       "      <td>0</td>\n",
       "      <td>11.48</td>\n",
       "      <td>1667785418</td>\n",
       "    </tr>\n",
       "    <tr>\n",
       "      <th>8</th>\n",
       "      <td>Buala</td>\n",
       "      <td>SB</td>\n",
       "      <td>-8.1450</td>\n",
       "      <td>159.5921</td>\n",
       "      <td>81.75</td>\n",
       "      <td>80</td>\n",
       "      <td>87</td>\n",
       "      <td>10.80</td>\n",
       "      <td>1667785419</td>\n",
       "    </tr>\n",
       "    <tr>\n",
       "      <th>9</th>\n",
       "      <td>Norman Wells</td>\n",
       "      <td>CA</td>\n",
       "      <td>65.2820</td>\n",
       "      <td>-126.8329</td>\n",
       "      <td>3.24</td>\n",
       "      <td>85</td>\n",
       "      <td>20</td>\n",
       "      <td>4.61</td>\n",
       "      <td>1667785419</td>\n",
       "    </tr>\n",
       "  </tbody>\n",
       "</table>\n",
       "</div>"
      ],
      "text/plain": [
       "              City Country  Latitude  Longitude  Max Temperature (F)  \\\n",
       "0             Chui      UY  -33.6971   -53.4616                58.21   \n",
       "1            Ancud      CL  -41.8697   -73.8203                48.90   \n",
       "2        Sinnamary      GF    5.3833   -52.9500                77.79   \n",
       "3  Puerto Quijarro      BO  -17.7833   -57.7667                74.14   \n",
       "4              Oga      IT   46.4631    10.3470                35.02   \n",
       "5     Kruisfontein      ZA  -34.0033    24.7314                63.88   \n",
       "6        Saskylakh      RU   71.9167   114.0833               -23.76   \n",
       "7          Huilong      CN   31.8111   121.6550                65.93   \n",
       "8            Buala      SB   -8.1450   159.5921                81.75   \n",
       "9     Norman Wells      CA   65.2820  -126.8329                 3.24   \n",
       "\n",
       "   Humidity  Cloudiness  Windspeed (mph)        Date  \n",
       "0        87           0             9.33  1667785416  \n",
       "1        87           9             3.51  1667785416  \n",
       "2        87         100             7.18  1667785416  \n",
       "3        32           0             3.67  1667785417  \n",
       "4        56          40             2.46  1667785417  \n",
       "5        84          99             3.22  1667785418  \n",
       "6       100          50             2.71  1667785418  \n",
       "7        61           0            11.48  1667785418  \n",
       "8        80          87            10.80  1667785419  \n",
       "9        85          20             4.61  1667785419  "
      ]
     },
     "execution_count": 6,
     "metadata": {},
     "output_type": "execute_result"
    }
   ],
   "source": [
    "vacation_data = pd.read_csv(\"data\\weather_data.csv\", index_col=0)\n",
    "vacation_data.head(10)"
   ]
  },
  {
   "cell_type": "markdown",
   "id": "77bcbbf0",
   "metadata": {},
   "source": [
    "### Humidity Heatmap\n",
    "* Configure gmaps.\n",
    "* Use the Lat and Lng as locations and Humidity as the weight.\n",
    "* Add Heatmap layer to map."
   ]
  },
  {
   "cell_type": "code",
   "execution_count": 7,
   "id": "4301d720",
   "metadata": {},
   "outputs": [],
   "source": [
    "# Configure gmaps\n",
    "gmaps.configure(api_key=g_key)"
   ]
  },
  {
   "cell_type": "code",
   "execution_count": 8,
   "id": "d972fd83",
   "metadata": {},
   "outputs": [
    {
     "data": {
      "application/vnd.jupyter.widget-view+json": {
       "model_id": "091542fdd67d46c19a5a9c5063b2018d",
       "version_major": 2,
       "version_minor": 0
      },
      "text/plain": [
       "Figure(layout=FigureLayout(height='420px'))"
      ]
     },
     "metadata": {},
     "output_type": "display_data"
    }
   ],
   "source": [
    "# Heatmap of humidity\n",
    "locations = vacation_data[[\"Latitude\", \"Longitude\"]]\n",
    "humidity = vacation_data[\"Humidity\"]\n",
    "fig = gmaps.figure()\n",
    "heat_layer = gmaps.heatmap_layer(locations, weights=humidity, dissipating=False, max_intensity=300, point_radius=5)\n",
    "\n",
    "fig.add_layer(heat_layer)\n",
    "\n",
    "fig"
   ]
  },
  {
   "cell_type": "markdown",
   "id": "9fc2ee8f",
   "metadata": {},
   "source": [
    "### Create new DataFrame fitting weather criteria\n",
    "* Narrow down the cities to fit weather conditions.\n",
    "* Drop any rows will null values."
   ]
  },
  {
   "cell_type": "code",
   "execution_count": null,
   "id": "c2602103",
   "metadata": {},
   "outputs": [],
   "source": []
  }
 ],
 "metadata": {
  "kernelspec": {
   "display_name": "Python 3.9.13 ('base')",
   "language": "python",
   "name": "python3"
  },
  "language_info": {
   "codemirror_mode": {
    "name": "ipython",
    "version": 3
   },
   "file_extension": ".py",
   "mimetype": "text/x-python",
   "name": "python",
   "nbconvert_exporter": "python",
   "pygments_lexer": "ipython3",
   "version": "3.9.13"
  },
  "vscode": {
   "interpreter": {
    "hash": "44af4bdfd0b59e5dfc8b9d7cc688099ceb09371ab769a4fd2dbb6275d02e3fa8"
   }
  }
 },
 "nbformat": 4,
 "nbformat_minor": 5
}
