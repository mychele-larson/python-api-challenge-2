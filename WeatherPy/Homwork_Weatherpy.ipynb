{
 "cells": [
  {
   "cell_type": "markdown",
   "id": "d6ce4471-9b44-4075-9aab-3fc65e795f8c",
   "metadata": {},
   "source": [
    "## Weatherpy Homework"
   ]
  },
  {
   "cell_type": "code",
   "execution_count": 20,
   "id": "f0d65b4c-c022-43f6-ad74-3fb3afb7e3e6",
   "metadata": {
    "scrolled": true,
    "tags": []
   },
   "outputs": [],
   "source": [
    "# Dependencies and Setup\n",
    "import matplotlib.pyplot as plt\n",
    "import pandas as pd\n",
    "import numpy as np\n",
    "import requests\n",
    "import time\n",
    "import json\n",
    "from scipy.stats import linregress\n",
    "from pprint import pprint\n",
    "\n",
    "# Import API key\n",
    "from api_keys import weather_api_key\n",
    "\n",
    "# Incorporated citipy to determine city based on latitude and longitude\n",
    "from citipy import citipy\n",
    "\n",
    "# Output File (CSV)\n",
    "city_data_file = \"output_data/cities.csv\"\n",
    "\n",
    "# Range of latitudes and longitudes\n",
    "lat_range = (-90, 90)\n",
    "lng_range = (-180, 180)"
   ]
  },
  {
   "cell_type": "markdown",
   "id": "4806cfcf-83f2-4b7d-b748-fccfeb3abe38",
   "metadata": {},
   "source": [
    "### General Cities List"
   ]
  },
  {
   "cell_type": "code",
   "execution_count": 21,
   "id": "b024dd44-139d-4b0a-b4bd-b9a5b160d321",
   "metadata": {
    "tags": []
   },
   "outputs": [
    {
     "name": "stdout",
     "output_type": "stream",
     "text": [
      "['piacabucu', 'belushya guba', 'taolanaro', 'ushuaia', 'bubaque', 'butaritari', 'kaitangata', 'port alfred', 'mount gambier', 'ahipara', 'illoqqortoormiut', 'kokstad', 'puerto madryn', 'hilo', 'sao joao da barra', 'bredasdorp', 'bethel', 'hobart', 'zhigansk', 'hermanus', 'kabalo', 'kudahuvadhoo', 'severo-kurilsk', 'vila', 'barentsburg', 'talnakh', 'shizunai', 'aden', 'rikitea', 'fortuna', 'kapaa', 'ratnagiri', 'jamestown', 'henties bay', 'bandarbeyla', 'arraial do cabo', 'uong bi', 'punta arenas', 'thompson', 'ucluelet', 'komsomolskiy', 'bluff', 'maldonado', 'geraldton', 'porto belo', 'diffa', 'qaanaaq', 'cabo san lucas', 'mataura', 'vaini', 'emirdag', 'mitu', 'lolua', 'mys shmidta', 'kununurra', 'dongsheng', 'bangsund', 'kahului', 'doctor pedro p. pena', 'deputatskiy', 'constitucion', 'ostrovnoy', 'mantua', 'quatre cocos', 'amderma', 'victoria', 'balikpapan', 'busselton', 'chuy', 'dikson', 'buzuluk', 'santa cruz del norte', 'valle del guamuez', 'port elizabeth', 'sao filipe', 'kasama', 'tasbuget', 'albany', 'barranca', 'dunedin', 'beringovskiy', 'ambovombe', 'tsihombe', 'lebu', 'khatanga', 'ust-kuyga', 'puerto ayora', 'upernavik', 'vaitupu', 'bilibino', 'hovd', 'gagnoa', 'alekseyevsk', 'barrow', 'ostashkov', 'olovyannaya', 'mount pleasant', 'airai', 'helong', 'verkhoyansk', 'samusu', 'kodiak', 'elat', 'marzuq', 'tabas', 'oussouye', 'natal', 'isangel', 'new norfolk', 'paamiut', 'aktyubinskiy', 'nanortalik', 'husavik', 'norcasia', 'lahij', 'bambous virieux', 'santa maria', 'tasiilaq', 'acuna', 'carnarvon', 'saleaula', 'nizhneyansk', 'pangnirtung', 'roebourne', 'cape town', 'kongolo', 'hamirpur', 'lixourion', 'east london', 'kamenskoye', 'ulaangom', 'kasongo', 'iqaluit', 'provideniya', 'saint-augustin', 'suao', 'kirakira', 'brae', 'cururupu', 'syracuse', 'san patricio', 'vao', 'mahebourg', 'arlit', 'chokurdakh', 'sungaipenuh', 'kupang', 'providencia', 'somerset east', 'georgetown', 'mar del plata', 'atuona', 'nikolskoye', 'sorvag', 'verkh-usugli', 'yellowknife', 'susanville', 'maragogi', 'bousso', 'conde', 'ocampo', 'mason city', 'tuktoyaktuk', 'saldanha', 'matamoros', 'qandala', 'anda', 'ponta do sol', 'port hedland', 'longyearbyen', 'uzumlu', 'outlook', 'manitouwadge', 'hamilton', 'tiksi', 'shestakovo', 'srivardhan', 'ilulissat', 'panjab', 'ipil', 'gallup', 'hithadhoo', 'kavieng', 'alofi', 'chagda', 'mount isa', 'pevek', 'warrnambool', 'touros', 'livingstonia', 'ballina', 'yuzhno-kurilsk', 'qasigiannguit', 'lompoc', 'saint george', 'bauchi', 'half moon bay', 'parana', 'rockhampton', 'coquimbo', 'atar', 'port blair', 'ampanihy', 'vostok', 'kuching', 'aklavik', 'yakeshi', 'rawson', 'hambantota', 'diedorf', 'nabire', 'puerto escondido', 'torbay', 'barra do garcas', 'wewak', 'berlevag', 'peniche', 'saint-michel-des-saints', 'brockville', 'marsa matruh', 'fernley', 'ust-ishim', 'naze', 'sentyabrskiy', 'banjar', 'faya', 'acapulco', 'saskylakh', 'buala', 'hyeres', 'talaya', 'balkhash', 'anisoc', 'puyang', 'itinga', 'olafsvik', 'rio grande', 'port augusta', 'magadan', 'bengkulu', 'klaksvik', 'bay-khaak', 'port-gentil', 'vytegra', 'khonuu', 'saint-philippe', 'kruisfontein', 'ambilobe', 'avarua', 'sabzevar', 'kosa', 'huilong', 'puquio', 'barkhan', 'susurluk', 'micheweni', 'dalbandin', 'wahran', 'upata', 'vanimo', 'nuuk', 'amta', 'hasaki', 'castro', 'halalo', 'whitehorse', 'broome', 'sur', 'maksatikha', 'higuey', 'dzitbalche', 'tymovskoye', 'marovoay', 'jilib', 'baft', 'leningradskiy', 'pangkalanbuun', 'comodoro rivadavia', 'muhos', 'zhanatas', 'aykhal', 'sibu', 'byron bay', 'richards bay', 'puerto baquerizo moreno', 'ponto novo', 'chumikan', 'manjacaze', 'cap malheureux', 'saint anthony', 'smolenka', 'chilca', 'phimai', 'atlantis', 'te anau', 'norman wells', 'warri', 'souillac', 'sturgeon falls', 'hay river', 'fukue', 'nome', 'kulu', 'port shepstone', 'borogontsy', 'svetlogorsk', 'esperance', 'dulce grande', 'saint-louis', 'klyuchi', 'maniago', 'sonoita', 'sorong', 'rognan', 'avera', 'texarkana', 'san alberto', 'sinkat', 'lata', 'goderich', 'faanui', 'nouadhibou', 'lesnoy', 'celestun', 'buraydah', 'kingisepp', 'raton', 'toora-khem', 'gejiu', 'kapuskasing', 'miri', 'gladstone', 'porto novo', 'padre paraiso', 'harper', 'purranque', 'ribeira grande', 'lincoln', 'khromtau', 'awbari', 'bahile', 'buqayq', 'camacha', 'dakoro', 'barcelos', 'rocha', 'tomino', 'tumannyy', 'calderitas', 'orlik', 'caravelas', 'alice springs', 'coahuayana', 'wenchi', 'shingu', 'leninsk-kuznetskiy', 'petropavlovsk-kamchatskiy', 'bathsheba', 'fernie', 'cidreira', 'barcelona', 'kavaratti', 'honningsvag', 'lhokseumawe', 'san cristobal', 'shelburne', 'luderitz', 'resistencia', 'brownsville', 'claremore', 'urucara', 'bredy', 'ola', 'turcinesti', 'ixtapa', 'chimbote', 'phan rang', 'tupik', 'solovetskiy', 'udaipura', 'hirara', 'skovorodino', 'beloha', 'george', 'gunjur', 'dharmanagar', 'riyadh', 'necochea', 'lemesos', 'mogadishu', 'omboue', 'dingle', 'kenai', 'axim', 'anloga', 'afsin', 'qeshm', 'manggar', 'plettenberg bay', 'viedma', 'narsaq', 'los algarrobos', 'moerai', 'hirado', 'skibbereen', 'sumbawa', 'lagoa', 'petrolina', 'zemio', 'attawapiskat', 'coihaique', 'vardo', 'banda aceh', 'kalaleh', 'fairbanks', 'nadvoitsy', 'bargal', 'chhuikhadan', 'pemangkat', 'whitecourt', 'lewistown', 'port hardy', 'novoagansk', 'vilyuysk', 'mahibadhoo', 'kalabo', 'santarem', 'medea', 'cabo rojo', 'urrao', 'college', 'taoudenni', 'ancud', 'doka', 'bakhmach', 'chaihe', 'katsuura', 'naryan-mar', 'gidole', 'belmonte', 'gamba', 'cherskiy', 'terney', 'mezen', 'vuktyl', 'padang', 'rudbar', 'tautira', 'coolum beach', 'svetlyy', 'anqing', 'limulunga', 'labuhan', 'eureka', 'englehart', 'babu', 'oktyabrskoye', 'shulan', 'north bend', 'bataipora', 'calamar', 'san carlos de bariloche', 'brebeni', 'puerto del rosario', 'jalu', 'ordzhonikidze', 'ahuimanu', 'aquiraz', 'lusambo', 'gosainganj', 'marcona', 'ussel', 'ambikapur', 'mehamn', 'palabuhanratu', 'vetralla', 'roald', 'hurricane', 'dalvik', 'beira', 'cayenne', 'dolinsk', 'kulhudhuffushi', 'oxapampa', 'komatsu', 'pundaguitan', 'darnah', 'clyde river', 'clarence town', 'turkistan', 'kidal', 'khani', 'hereford', 'erenhot', 'la ronge', 'mujiayingzi', 'margate', 'sobolevo', 'araouane', 'cockburn town', 'kieta', 'emerald', 'baykit', 'bose', 'sisimiut', 'mgachi', 'candido mendes', 'krasnorechenskiy', 'mildura', 'narasannapeta', 'mana', 'synya', 'waipawa', 'viligili', 'maniitsoq', 'vila franca do campo', 'mountain home', 'vostochnyy', 'tongchuan', 'grand river south east', 'bryanka', 'kudat', 'daru', 'dolni dabnik', 'laguna', 'bud', 'grand centre', 'zanjan', 'warqla', 'kostyantynivka', 'belen', 'utete', 'hurghada', 'manuk mangkaw', 'lichinga', 'prince rupert', 'concordia', 'grevesmuhlen', 'iringa', 'flinders', 'san ramon', 'belomorsk', 'puerto ayacucho', 'korla', 'camana', 'dicabisagan', 'tomatlan', 'nantucket', 'amuntai', 'smederevo', 'aketi', 'batemans bay', 'diamantino', 'poum', 'sakakah', 'socorro', 'ternate', 'camopi', 'chapais', 'jizan', 'guerrero negro', 'palmer', 'zaozhuang', 'salalah', 'fort nelson', 'aasiaat', 'neyshabur', 'baryatino', 'venado tuerto', 'carutapera', 'high level', 'kanchanaburi', 'dolbeau', 'taltal', 'bartica', 'krasnoselkup', 'karpathos', 'bawku', 'corner brook', 'aranos', 'tiarei', 'briceni', 'colares', 'lazaro cardenas', 'darhan', 'christchurch', 'kalmunai', 'san vicente', 'haines junction', 'haysville', 'kerema', 'gonbad-e qabus', 'phan thiet', 'nata', 'coari', 'shellbrook', 'solnechnyy', 'carballo', 'dawlatabad', 'aracati', 'teguise', 'waingapu', 'bolsheustikinskoye', 'mao', 'nyazepetrovsk', 'yanam', 'nishihara', 'morondava', 'tongliao', 'kikwit', 'eyl', 'saint-paul']\n"
     ]
    }
   ],
   "source": [
    "# List for holding lat_lngs and cities\n",
    "lat_lng = []\n",
    "cities = []\n",
    "\n",
    "# Create a set of random lat and lng combinations\n",
    "lat = np.random.uniform(lat_range[0], lat_range[1], size=1500)\n",
    "lng = np.random.uniform(lng_range[0], lng_range[1], size=1500)\n",
    "lat_lng = zip(lat, lng)\n",
    "\n",
    "# Identify nearest city for each lat, lng combination\n",
    "for lat_lng in lat_lng:\n",
    "    city = citipy.nearest_city(lat_lng[0], lat_lng[1]).city_name\n",
    "    \n",
    "    # If the city is unique, then add it to a our cities list\n",
    "    if city not in cities:\n",
    "        cities.append(city)\n",
    "\n",
    "# Print the city count to confirm sufficient count\n",
    "len(cities)\n",
    "print(cities)"
   ]
  },
  {
   "cell_type": "markdown",
   "id": "16d11ed6-aee3-47ee-be46-1c8e2bcc5fe2",
   "metadata": {
    "tags": []
   },
   "source": [
    "### Perform API Calls\n",
    "* Perform a weather check on each city using a series of successive API calls.\n",
    "* Include a print log of each city as it's being processed (with the city number and city name).\n"
   ]
  },
  {
   "cell_type": "code",
   "execution_count": 22,
   "id": "9383dea4-de86-418e-b162-989f5a9cb654",
   "metadata": {
    "tags": []
   },
   "outputs": [
    {
     "ename": "SyntaxError",
     "evalue": "unexpected EOF while parsing (511714431.py, line 9)",
     "output_type": "error",
     "traceback": [
      "\u001b[1;36m  File \u001b[1;32m\"C:\\Users\\myche\\AppData\\Local\\Temp\\ipykernel_6852\\511714431.py\"\u001b[1;36m, line \u001b[1;32m9\u001b[0m\n\u001b[1;33m    \u001b[0m\n\u001b[1;37m    ^\u001b[0m\n\u001b[1;31mSyntaxError\u001b[0m\u001b[1;31m:\u001b[0m unexpected EOF while parsing\n"
     ]
    }
   ],
   "source": [
    "# Build URL for API calls\n",
    "url = \"http://api.openweathermap.org/data/2.5/weather?\"\n",
    "api_key = \"&apikey=\" + weather_api_key\n",
    "url_ping = url + 'appid-' + weather_api_key + '&q=' + city\n",
    "response = requests.get(url_ping)\n",
    "response_json = response.json\n",
    "print(json.dumps(response_json, indent=4, sort_keys=True)\n",
    "\n",
    "\n"
   ]
  },
  {
   "cell_type": "code",
   "execution_count": 4,
   "id": "b0c6c8ec-6e43-4f93-8874-a023f7d68624",
   "metadata": {},
   "outputs": [
    {
     "data": {
      "text/plain": [
       "'http://api.openweathermap.org/data/2.5/weather?appid=24a9f27b8382e7d1af98e11343ebc6d9&q=knysna'"
      ]
     },
     "execution_count": 4,
     "metadata": {},
     "output_type": "execute_result"
    }
   ],
   "source": [
    "query_url"
   ]
  },
  {
   "cell_type": "code",
   "execution_count": null,
   "id": "24954b2e-8dbf-49ff-bd49-469e464703f2",
   "metadata": {},
   "outputs": [],
   "source": []
  },
  {
   "cell_type": "code",
   "execution_count": null,
   "id": "cb111c3d-39c4-4d30-9762-575aed75b3a0",
   "metadata": {},
   "outputs": [],
   "source": [
    "# Print log\n",
    "print(\"Data Retrieval Log-Start\")\n",
    "print(\"-------------------------\")\n",
    "\n",
    "# Create Counters for loop\n",
    "count_records = 1\n",
    "count_set = 1\n",
    "\n",
    "# Loop through list of cities\n",
    "for i, city in enumerate(cities):\n",
    "    \n",
    "    # Group in set of 50 cities\n",
    "    if (i % 50 == 0 and i >= 50)\n",
    "        count_set +=1\n",
    "        count_records = 1\n",
    "        \n",
    "# Set parameters\n",
    "    params = {}"
   ]
  },
  {
   "cell_type": "code",
   "execution_count": null,
   "id": "09c072a5-d295-4680-bf7d-7bff63e560f3",
   "metadata": {},
   "outputs": [],
   "source": []
  },
  {
   "cell_type": "code",
   "execution_count": null,
   "id": "10c2c0d2-c182-42a7-9ad8-37fd4865c783",
   "metadata": {},
   "outputs": [],
   "source": []
  },
  {
   "cell_type": "code",
   "execution_count": null,
   "id": "bfeb9797-1ccf-4e1f-a112-ef7cc7e85ef4",
   "metadata": {},
   "outputs": [],
   "source": []
  }
 ],
 "metadata": {
  "kernelspec": {
   "display_name": "Python 3 (ipykernel)",
   "language": "python",
   "name": "python3"
  },
  "language_info": {
   "codemirror_mode": {
    "name": "ipython",
    "version": 3
   },
   "file_extension": ".py",
   "mimetype": "text/x-python",
   "name": "python",
   "nbconvert_exporter": "python",
   "pygments_lexer": "ipython3",
   "version": "3.9.13"
  },
  "vscode": {
   "interpreter": {
    "hash": "44af4bdfd0b59e5dfc8b9d7cc688099ceb09371ab769a4fd2dbb6275d02e3fa8"
   }
  }
 },
 "nbformat": 4,
 "nbformat_minor": 5
}
